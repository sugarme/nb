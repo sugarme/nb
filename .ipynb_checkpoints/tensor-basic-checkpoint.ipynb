{
 "cells": [
  {
   "cell_type": "code",
   "execution_count": 3,
   "metadata": {},
   "outputs": [],
   "source": [
    "import(\n",
    "    \"fmt\"\n",
    "    \n",
    "    ts \"github.com/sugarme/gotch/tensor\"\n",
    "    \"github.com/sugarme/gotch\"\n",
    ")"
   ]
  },
  {
   "cell_type": "code",
   "execution_count": 12,
   "metadata": {},
   "outputs": [
    {
     "name": "stdout",
     "output_type": "stream",
     "text": [
      " 0.0   1.0   2.0   3.0  \n",
      " 4.0   5.0   6.0   7.0  \n",
      " 8.0   9.0  10.0  11.0  \n",
      "\n"
     ]
    },
    {
     "data": {
      "text/plain": [
       "76 <nil>"
      ]
     },
     "execution_count": 12,
     "metadata": {},
     "output_type": "execute_result"
    }
   ],
   "source": [
    "ts1 := ts.MustArange(ts.IntScalar(12), gotch.Double, gotch.CPU).MustView([]int64{3,4}, true)\n",
    "fmt.Printf(\"%4.1f\", ts1)"
   ]
  },
  {
   "cell_type": "code",
   "execution_count": 13,
   "metadata": {},
   "outputs": [
    {
     "name": "stdout",
     "output_type": "stream",
     "text": [
      "(1,.,.) =\n",
      "0.310  0.245  0.985  0.049  0.525  \n",
      "0.227  0.894  0.462  0.180  0.730  \n",
      "0.788  0.880  0.893  0.288  0.265  \n",
      "0.880  0.500  0.422  0.895  0.735  \n",
      "\n",
      "(2,.,.) =\n",
      "0.473  0.769  0.080  0.767  0.057  \n",
      "0.957  0.249  0.491  0.211  0.733  \n",
      "0.658  0.572  0.356  0.306  0.183  \n",
      "0.617  0.548  0.719  0.364  0.806  \n",
      "\n",
      "(3,.,.) =\n",
      "0.549  0.257  0.319  0.033  0.420  \n",
      "0.932  0.213  0.934  0.323  0.753  \n",
      "0.416  0.903  0.769  0.528  0.812  \n",
      "0.029  0.164  0.954  0.928  0.931  \n",
      "\n"
     ]
    },
    {
     "data": {
      "text/plain": [
       "465 <nil>"
      ]
     },
     "execution_count": 13,
     "metadata": {},
     "output_type": "execute_result"
    }
   ],
   "source": [
    "ts2 := ts.MustRand([]int64{3,4,5}, gotch.Double, gotch.CPU)\n",
    "fmt.Printf(\"%.3f\", ts2)"
   ]
  },
  {
   "cell_type": "code",
   "execution_count": null,
   "metadata": {},
   "outputs": [],
   "source": []
  }
 ],
 "metadata": {
  "kernelspec": {
   "display_name": "Go",
   "language": "go",
   "name": "gophernotes"
  },
  "language_info": {
   "codemirror_mode": "",
   "file_extension": ".go",
   "mimetype": "",
   "name": "go",
   "nbconvert_exporter": "",
   "pygments_lexer": "",
   "version": "go1.15.4"
  }
 },
 "nbformat": 4,
 "nbformat_minor": 4
}
