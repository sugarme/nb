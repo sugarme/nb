{
 "cells": [
  {
   "cell_type": "code",
   "execution_count": 2,
   "metadata": {},
   "outputs": [],
   "source": [
    "import(\n",
    "    \"math/rand\"\n",
    "\n",
    "    \"gonum.org/v1/plot\"\n",
    "    \"gonum.org/v1/plot/plotter\"\n",
    "    \"gonum.org/v1/plot/plotutil\"\n",
    "    \"gonum.org/v1/plot/vg\"\n",
    ")\n",
    "\n",
    "// randomPoints returns some random x, y points.\n",
    "func randomPoints(n int) plotter.XYs {\n",
    "    pts := make(plotter.XYs, n)\n",
    "    for i := range pts {\n",
    "        if i == 0 {\n",
    "            pts[i].X = rand.Float64()\n",
    "        } else {\n",
    "            pts[i].X = pts[i-1].X + rand.Float64()\n",
    "        }\n",
    "        pts[i].Y = pts[i].X + 10*rand.Float64()\n",
    "    }\n",
    "    return pts\n",
    "}\n",
    "\n",
    "rand.Seed(int64(0))\n",
    "\n",
    "p, err := plot.New()\n",
    "if err != nil {\n",
    "    panic(err)\n",
    "}\n",
    "\n",
    "p.Title.Text = \"Plotutil example\"\n",
    "p.X.Label.Text = \"X\"\n",
    "p.Y.Label.Text = \"Y\"\n",
    "\n",
    "err = plotutil.AddLinePoints(p,\n",
    "    \"First\", randomPoints(15),\n",
    "    \"Second\", randomPoints(15),\n",
    "    \"Third\", randomPoints(15))\n",
    "if err != nil {\n",
    "    panic(err)\n",
    "}\n",
    "\n",
    "// Save the plot to a PNG file.\n",
    "if err := p.Save(4*vg.Inch, 4*vg.Inch, \"points.png\"); err != nil {\n",
    "    panic(err)\n",
    "}\n"
   ]
  },
  {
   "cell_type": "code",
   "execution_count": null,
   "metadata": {},
   "outputs": [],
   "source": []
  }
 ],
 "metadata": {
  "kernelspec": {
   "display_name": "Go",
   "language": "go",
   "name": "gophernotes"
  },
  "language_info": {
   "codemirror_mode": "",
   "file_extension": ".go",
   "mimetype": "",
   "name": "go",
   "nbconvert_exporter": "",
   "pygments_lexer": "",
   "version": "go1.15.4"
  }
 },
 "nbformat": 4,
 "nbformat_minor": 4
}
