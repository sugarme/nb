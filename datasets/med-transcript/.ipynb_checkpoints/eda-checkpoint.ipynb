{
 "cells": [
  {
   "cell_type": "code",
   "execution_count": 2,
   "metadata": {},
   "outputs": [],
   "source": [
    "import(\n",
    "    \"fmt\"\n",
    "    \"os\"\n",
    "    \"encoding/csv\"\n",
    ")"
   ]
  },
  {
   "cell_type": "code",
   "execution_count": 3,
   "metadata": {},
   "outputs": [],
   "source": [
    "// ReadCSV read a .csv file line by line\n",
    "func ReadCSV(filename string) ([][]string, error){\n",
    "    f, err := os.Open(filename)\n",
    "    if err != nil{\n",
    "        return nil, err\n",
    "    }\n",
    "    defer f.Close()\n",
    "    \n",
    "    lines, err := csv.NewReader(f).ReadAll()\n",
    "    if err != nil{\n",
    "        return nil, err\n",
    "    }\n",
    "    \n",
    "    return lines, nil\n",
    "}"
   ]
  },
  {
   "cell_type": "code",
   "execution_count": 4,
   "metadata": {},
   "outputs": [
    {
     "ename": "ERROR",
     "evalue": "repl.go:27:29: cannot use l <[]string> as main.MedScript in builtin append()",
     "output_type": "error",
     "traceback": [
      "repl.go:27:29: cannot use l <[]string> as main.MedScript in builtin append()"
     ]
    }
   ],
   "source": [
    "type MedScript struct{\n",
    "    Id string\n",
    "    Description string\n",
    "    MedicalSpecialty string\n",
    "    SampleName string\n",
    "    Transcription string\n",
    "    Keywords string\n",
    "}\n",
    "\n",
    "// readMedScriptData reads medical transcript dataset to MedScript struct\n",
    "func readMedScriptData(filename string) ([]MedScript, error){\n",
    "    lines, err := ReadCSV(filename)\n",
    "    if err != nil{ return nil, err}\n",
    "    \n",
    "    var data []MedScript\n",
    "    \n",
    "    for _, l := range lines{\n",
    "        r := MedScript{\n",
    "            Id: l[0],\n",
    "            Description: l[1],\n",
    "            MedicalSpecialty: l[2],\n",
    "            SampleName: l[3],\n",
    "            Transcription: l[4],\n",
    "            Keywords: l[5],\n",
    "        }\n",
    "        \n",
    "        data = append(data, r)\n",
    "    }\n",
    "    \n",
    "    return data, nil\n",
    "}"
   ]
  },
  {
   "cell_type": "code",
   "execution_count": 5,
   "metadata": {},
   "outputs": [
    {
     "ename": "ERROR",
     "evalue": "repl.go:1:14: undefined identifier: readMedScriptData",
     "output_type": "error",
     "traceback": [
      "repl.go:1:14: undefined identifier: readMedScriptData"
     ]
    }
   ],
   "source": [
    "data, err := readMedScriptData(\"mtsamples.csv\")\n",
    "if err != nil { fmt.Print(err)}\n",
    "\n",
    "data[0].Transcription"
   ]
  },
  {
   "cell_type": "code",
   "execution_count": null,
   "metadata": {},
   "outputs": [],
   "source": []
  }
 ],
 "metadata": {
  "kernelspec": {
   "display_name": "Go",
   "language": "go",
   "name": "gophernotes"
  },
  "language_info": {
   "codemirror_mode": "",
   "file_extension": ".go",
   "mimetype": "",
   "name": "go",
   "nbconvert_exporter": "",
   "pygments_lexer": "",
   "version": "go1.14.3"
  }
 },
 "nbformat": 4,
 "nbformat_minor": 4
}
