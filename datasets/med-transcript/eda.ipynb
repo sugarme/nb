{
 "cells": [
  {
   "cell_type": "code",
   "execution_count": 2,
   "metadata": {},
   "outputs": [],
   "source": [
    "import(\n",
    "    \"fmt\"\n",
    "    \"os\"\n",
    "    \"encoding/csv\"\n",
    ")"
   ]
  },
  {
   "cell_type": "code",
   "execution_count": 3,
   "metadata": {},
   "outputs": [],
   "source": [
    "// ReadCSV read a .csv file line by line\n",
    "func ReadCSV(filename string) ([][]string, error){\n",
    "    f, err := os.Open(filename)\n",
    "    if err != nil{\n",
    "        return nil, err\n",
    "    }\n",
    "    defer f.Close()\n",
    "    \n",
    "    lines, err := csv.NewReader(f).ReadAll()\n",
    "    if err != nil{\n",
    "        return nil, err\n",
    "    }\n",
    "    \n",
    "    return lines, nil\n",
    "}"
   ]
  },
  {
   "cell_type": "code",
   "execution_count": 6,
   "metadata": {},
   "outputs": [],
   "source": [
    "type MedScript struct{\n",
    "    Id string\n",
    "    Description string\n",
    "    MedicalSpecialty string\n",
    "    SampleName string\n",
    "    Transcription string\n",
    "    Keywords string\n",
    "}\n",
    "\n",
    "// readMedScriptData reads medical transcript dataset to MedScript struct\n",
    "func readMedScriptData(filename string) ([]MedScript, error){\n",
    "    lines, err := ReadCSV(filename)\n",
    "    if err != nil{ return nil, err}\n",
    "    \n",
    "    var data []MedScript\n",
    "    \n",
    "    for _, l := range lines{\n",
    "        r := MedScript{\n",
    "            Id: l[0],\n",
    "            Description: l[1],\n",
    "            MedicalSpecialty: l[2],\n",
    "            SampleName: l[3],\n",
    "            Transcription: l[4],\n",
    "            Keywords: l[5],\n",
    "        }\n",
    "        \n",
    "        data = append(data, r)\n",
    "    }\n",
    "    \n",
    "    return data, nil\n",
    "}"
   ]
  },
  {
   "cell_type": "code",
   "execution_count": 9,
   "metadata": {},
   "outputs": [
    {
     "name": "stdout",
     "output_type": "stream",
     "text": [
      "{Id:0 Description: A 23-year-old white female presents with complaint of allergies. MedicalSpecialty: Allergy / Immunology SampleName: Allergic Rhinitis  Transcription:SUBJECTIVE:,  This 23-year-old white female presents with complaint of allergies.  She used to have allergies when she lived in Seattle but she thinks they are worse here.  In the past, she has tried Claritin, and Zyrtec.  Both worked for short time but then seemed to lose effectiveness.  She has used Allegra also.  She used that last summer and she began using it again two weeks ago.  It does not appear to be working very well.  She has used over-the-counter sprays but no prescription nasal sprays.  She does have asthma but doest not require daily medication for this and does not think it is flaring up.,MEDICATIONS: , Her only medication currently is Ortho Tri-Cyclen and the Allegra.,ALLERGIES: , She has no known medicine allergies.,OBJECTIVE:,Vitals:  Weight was 130 pounds and blood pressure 124/78.,HEENT:  Her throat was mildly erythematous without exudate.  Nasal mucosa was erythematous and swollen.  Only clear drainage was seen.  TMs were clear.,Neck:  Supple without adenopathy.,Lungs:  Clear.,ASSESSMENT:,  Allergic rhinitis.,PLAN:,1.  She will try Zyrtec instead of Allegra again.  Another option will be to use loratadine.  She does not think she has prescription coverage so that might be cheaper.,2.  Samples of Nasonex two sprays in each nostril given for three weeks.  A prescription was written as well. Keywords:allergy / immunology, allergic rhinitis, allergies, asthma, nasal sprays, rhinitis, nasal, erythematous, allegra, sprays, allergic,}\n"
     ]
    },
    {
     "data": {
      "text/plain": [
       "1642 <nil>"
      ]
     },
     "execution_count": 9,
     "metadata": {},
     "output_type": "execute_result"
    }
   ],
   "source": [
    "data, err := readMedScriptData(\"mtsamples.csv\")\n",
    "if err != nil { fmt.Print(err)}\n",
    "\n",
    "fmt.Printf(\"%+v\\n\", data[1])\n"
   ]
  },
  {
   "cell_type": "code",
   "execution_count": null,
   "metadata": {},
   "outputs": [],
   "source": []
  }
 ],
 "metadata": {
  "kernelspec": {
   "display_name": "Go",
   "language": "go",
   "name": "gophernotes"
  },
  "language_info": {
   "codemirror_mode": "",
   "file_extension": ".go",
   "mimetype": "",
   "name": "go",
   "nbconvert_exporter": "",
   "pygments_lexer": "",
   "version": "go1.14.3"
  }
 },
 "nbformat": 4,
 "nbformat_minor": 4
}
