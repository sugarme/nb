{
 "cells": [
  {
   "cell_type": "markdown",
   "metadata": {},
   "source": [
    "<a href=\"https://colab.research.google.com/github/sugarme/nb/blob/master/transformer/bert-mask-lm.ipynb\" target=\"_parent\"><img src=\"https://colab.research.google.com/assets/colab-badge.svg\" alt=\"Open In Colab\"/></a>"
   ]
  },
  {
   "cell_type": "markdown",
   "metadata": {},
   "source": [
    "# BERT - Mask Language Model\n",
    "\n",
    "This notebook using\n",
    "\n",
    "1. [GoTch - Pytorch C++ APIs Go bindind](https://github.com/sugarme/gotch)\n",
    "2. [Transformer](https://github.com/sugarme/transformer)\n",
    "3. [GopherNotes - Jupyter Notebook Go kernel](https://github.com/gopherdata/gophernotes)"
   ]
  },
  {
   "cell_type": "markdown",
   "metadata": {},
   "source": [
    "<hr style=\"border: 2pt solid blue\"> </hr>\n",
    "\n",
    "## Install Go kernel - GopherNotes (Google Colab Only)\n",
    "\n",
    "- Save a copy to your Google Drive\n",
    "- Change Runtime type to use GPU if needed (Runtime/Change runtime type/Hardware accelerator/GPU)\n"
   ]
  },
  {
   "cell_type": "code",
   "execution_count": null,
   "metadata": {},
   "outputs": [],
   "source": [
    "# run this cell first time using python runtime\n",
    "!add-apt-repository ppa:longsleep/golang-backports -y > /dev/null\n",
    "!apt update > /dev/null \n",
    "!apt install golang-go > /dev/null\n",
    "%env GOPATH=/root/go\n",
    "!go get -u github.com/gopherdata/gophernotes\n",
    "!cp ~/go/bin/gophernotes /usr/bin/\n",
    "!mkdir /usr/local/share/jupyter/kernels/gophernotes\n",
    "!cp ~/go/src/github.com/gopherdata/gophernotes/kernel/* \\\n",
    "       /usr/local/share/jupyter/kernels/gophernotes\n",
    "# then refresh (browser), it will now use gophernotes. Skip to golang in later cells"
   ]
  },
  {
   "cell_type": "markdown",
   "metadata": {},
   "source": [
    "**Note**: refresh (reload) browswer after this step!\n",
    "\n",
    "<hr style=\"border:1px solid red\"> </hr>"
   ]
  },
  {
   "cell_type": "markdown",
   "metadata": {},
   "source": [
    "## Install Pytorch C++ APIs and Go binding - GoTch\n",
    "\n",
    "NOTE: `ldconfig` (GLIBC) current version 2.27 is currently broken when linking Libtorch library\n",
    "\n",
    "see issue: https://discuss.pytorch.org/libtorch-c-so-files-truncated-error-when-ldconfig/46404/6\n",
    "\n",
    "Google Colab default settings:\n",
    "```bash\n",
    "LD_LIBRARY_PATH=/usr/lib64-nvidia\n",
    "LIBRARY_PATH=/usr/local/cuda/lib64/stubs\n",
    "```\n",
    "We copy directly `libtorch/lib` to those paths as a hacky way. "
   ]
  },
  {
   "cell_type": "code",
   "execution_count": null,
   "metadata": {},
   "outputs": [],
   "source": [
    "$wget -q --show-progress --progress=bar:force:noscroll -O /tmp/libtorch-cxx11-abi-shared-with-deps-1.7.0%2Bcu101.zip https://download.pytorch.org/libtorch/cu101/libtorch-cxx11-abi-shared-with-deps-1.7.0%2Bcu101.zip\n",
    "$unzip -qq /tmp/libtorch-cxx11-abi-shared-with-deps-1.7.0%2Bcu101.zip -d /usr/local\n",
    "$unzip -qq -j /tmp/libtorch-cxx11-abi-shared-with-deps-1.7.0%2Bcu101.zip libtorch/lib/* -d /usr/lib64-nvidia/\n",
    "$unzip -qq -j /tmp/libtorch-cxx11-abi-shared-with-deps-1.7.0%2Bcu101.zip libtorch/lib/* -d /usr/local/cuda/lib64/stubs/"
   ]
  },
  {
   "cell_type": "code",
   "execution_count": null,
   "metadata": {},
   "outputs": [],
   "source": [
    "import(\"os\")\n",
    "os.Setenv(\"CPATH\", \"usr/local/libtorch/lib:/usr/local/libtorch/include:/usr/local/libtorch/include/torch/csrc/api/include\")"
   ]
  },
  {
   "cell_type": "code",
   "execution_count": null,
   "metadata": {},
   "outputs": [],
   "source": [
    "$rm -f -- go.mod\n",
    "$go mod init github.com/sugarme/playgo\n",
    "$go get github.com/sugarme/gotch@v0.3.2"
   ]
  },
  {
   "cell_type": "code",
   "execution_count": null,
   "metadata": {},
   "outputs": [],
   "source": [
    "import(\n",
    "    \"fmt\"\n",
    "\n",
    "    \"github.com/sugarme/gotch\"\n",
    "    ts \"github.com/sugarme/gotch/tensor\"\n",
    ") "
   ]
  },
  {
   "cell_type": "markdown",
   "metadata": {},
   "source": [
    "## ...and we are ready to Go! Thank you for using GoTch!\n",
    "\n",
    "<hr style=\"border:2pt solid blue\"> </hr>"
   ]
  },
  {
   "cell_type": "markdown",
   "metadata": {},
   "source": [
    "# BERT For Maked Language Model"
   ]
  },
  {
   "cell_type": "code",
   "execution_count": 1,
   "metadata": {},
   "outputs": [
    {
     "name": "stderr",
     "output_type": "stream",
     "text": [
      "bert-base-uncased-c 100%[===================>]     433  --.-KB/s    in 0s      \n",
      "bert-base-uncased-m 100%[===================>] 509.49M  4.03MB/s    in 3m 39s  \n"
     ]
    }
   ],
   "source": [
    "$wget -q --show-progress --progress=bar:force:noscroll -O bert-base-uncased-config.json https://s3.amazonaws.com/models.huggingface.co/bert/bert-base-uncased-config.json\n",
    "$wget -q --show-progress --progress=bar:force:noscroll -O bert-base-uncased-model.gt https://cdn.huggingface.co/bert-base-uncased-rust_model.ot"
   ]
  },
  {
   "cell_type": "code",
   "execution_count": null,
   "metadata": {},
   "outputs": [],
   "source": [
    "import(\n",
    "    \"fmt\"\n",
    "    \n",
    "    ts \"github.com/sugarme/gotch/tensor\"\n",
    "    \"github.com/sugarme/gotch/nn\"\n",
    "    \"github.com/sugarme/gotch\"\n",
    "    \"github.com/sugarme/tokenizer\"\n",
    "    \"github.com/sugarme/tokenizer/pretrained\"\n",
    "    \"github.com/sugarme/transformer\"\n",
    "    \"github.com/sugarme/transformer/bert\"\n",
    ")"
   ]
  },
  {
   "cell_type": "code",
   "execution_count": null,
   "metadata": {},
   "outputs": [],
   "source": [
    "device := gotch.CPU\n",
    "vs := nn.NewVarStore(device)\n",
    "// load BERT config\n",
    "config, err := bert.ConfigFromFile(\"bert-base-uncased-config.json\")\n",
    "if err != nil{ fmt.Print(err)}\n",
    "model := bert.NewBertForMaskedLM(vs.Root(), config)\n",
    "// load weights for BERT masked language model\n",
    "err := vs.Load(\"bert-base-uncased-model.gt\")\n",
    "if err != nil{fmt.Print(err)}\n",
    "// load pretrained bert-base-uncased tokenizer\n",
    "tk := pretrained.BertBaseUncased()"
   ]
  },
  {
   "cell_type": "code",
   "execution_count": null,
   "metadata": {},
   "outputs": [],
   "source": [
    "// Input sample\n",
    "sentence := \"Remi is 6 years old and he goes to [MASK] every day.\"\n",
    "// Encode the input\n",
    "enc, err := tk.EncodeSingle(sentence, true)\n",
    "if err != nil{fmt.Print(err)}\n",
    "var tokInput []int64\n",
    "for _, id := range enc.Ids{\n",
    "    tokInput = append(tokInput, int64(id))\n",
    "}\n",
    "// Create input tensors from token Ids\n",
    "// NOTE: BERT model is designed to take multiple samples.\n",
    "tokTensors := []ts.Tensor{*ts.TensorFrom(tokInput)} \n",
    "inputTs, err := ts.Stack(tokTensors, 0)\n",
    "if err != nil{fmt.Print(err)}\n",
    "input, err := inputTs.To(device, true)\n",
    "if err != nil { fmt.Print(err) }\n",
    "\n",
    "// Forward through the model\n",
    "var output *ts.Tensor\n",
    "ts.NoGrad(func(){\n",
    "    output, _, _ = model.ForwardT(input, ts.None, ts.None, ts.None, ts.None, ts.None, ts.None, false)\n",
    "})\n",
    "\n",
    "// Get first sample\n",
    "output1, err := output.Get(0)\n",
    "if err != nil{fmt.Print(err)}\n",
    "// Get p-values for [MASK] token - NOTE: there're added special tokens [CLS] sentence [SEP]\n",
    "values, err := output1.Get(11)\n",
    "if err != nil{ fmt.Print(err) }\n",
    "// Get the best value\n",
    "am, err := values.Argmax([]int64{0}, false, false)\n",
    "if err != nil{ fmt.Print(err) }\n",
    "id := am.Int64Values()[0]\n",
    "// Lookup token from vocab\n",
    "word, ok := tk.IdToToken(int(id))\n",
    "if !ok { fmt.Printf(\"Token not found for input Id: %v\\n\", id)}\n",
    "fmt.Printf(\"Tokens: %q\\n\", enc.Tokens)\n",
    "fmt.Printf(\"Input: %v - Output: %v\\n\", sentence, word)"
   ]
  },
  {
   "cell_type": "code",
   "execution_count": null,
   "metadata": {},
   "outputs": [],
   "source": []
  }
 ],
 "metadata": {
  "kernelspec": {
   "display_name": "Go",
   "language": "go",
   "name": "gophernotes"
  },
  "language_info": {
   "codemirror_mode": "",
   "file_extension": ".go",
   "mimetype": "",
   "name": "go",
   "nbconvert_exporter": "",
   "pygments_lexer": "",
   "version": "go1.14.3"
  }
 },
 "nbformat": 4,
 "nbformat_minor": 4
}
