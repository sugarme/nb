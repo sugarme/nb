{
 "cells": [
  {
   "cell_type": "markdown",
   "metadata": {},
   "source": [
    "# BERT For Maked Language Model"
   ]
  },
  {
   "cell_type": "code",
   "execution_count": 1,
   "metadata": {},
   "outputs": [
    {
     "name": "stderr",
     "output_type": "stream",
     "text": [
      "bert-base-uncased-c 100%[===================>]     433  --.-KB/s    in 0s      \n",
      "bert-base-uncased-m 100%[===================>] 509.49M  4.03MB/s    in 3m 39s  \n"
     ]
    }
   ],
   "source": [
    "$wget -q --show-progress --progress=bar:force:noscroll -O bert-base-uncased-config.json https://s3.amazonaws.com/models.huggingface.co/bert/bert-base-uncased-config.json\n",
    "$wget -q --show-progress --progress=bar:force:noscroll -O bert-base-uncased-model.gt https://cdn.huggingface.co/bert-base-uncased-rust_model.ot"
   ]
  },
  {
   "cell_type": "code",
   "execution_count": null,
   "metadata": {},
   "outputs": [],
   "source": [
    "import(\n",
    "    \"fmt\"\n",
    "    \n",
    "    ts \"github.com/sugarme/gotch/tensor\"\n",
    "    \"github.com/sugarme/gotch/nn\"\n",
    "    \"github.com/sugarme/gotch\"\n",
    "    \"github.com/sugarme/tokenizer\"\n",
    "    \"github.com/sugarme/tokenizer/pretrained\"\n",
    "    \"github.com/sugarme/transformer\"\n",
    "    \"github.com/sugarme/transformer/bert\"\n",
    ")"
   ]
  },
  {
   "cell_type": "code",
   "execution_count": null,
   "metadata": {},
   "outputs": [],
   "source": [
    "device := gotch.CPU\n",
    "vs := nn.NewVarStore(device)\n",
    "// load BERT config\n",
    "config, err := bert.ConfigFromFile(\"bert-base-uncased-config.json\")\n",
    "if err != nil{ fmt.Print(err)}\n",
    "model := bert.NewBertForMaskedLM(vs.Root(), config)\n",
    "// load weights for BERT masked language model\n",
    "err := vs.Load(\"bert-base-uncased-model.gt\")\n",
    "if err != nil{fmt.Print(err)}\n",
    "// load pretrained bert-base-uncased tokenizer\n",
    "tk := pretrained.BertBaseUncased()"
   ]
  },
  {
   "cell_type": "code",
   "execution_count": null,
   "metadata": {},
   "outputs": [],
   "source": [
    "// Input sample\n",
    "sentence := \"Remi is 6 years old and he goes to [MASK] every day.\"\n",
    "// Encode the input\n",
    "enc, err := tk.EncodeSingle(sentence, true)\n",
    "if err != nil{fmt.Print(err)}\n",
    "var tokInput []int64\n",
    "for _, id := range enc.Ids{\n",
    "    tokInput = append(tokInput, int64(id))\n",
    "}\n",
    "// Create input tensors from token Ids\n",
    "// NOTE: BERT model is designed to take multiple samples.\n",
    "tokTensors := []ts.Tensor{*ts.TensorFrom(tokInput)} \n",
    "inputTs, err := ts.Stack(tokTensors, 0)\n",
    "if err != nil{fmt.Print(err)}\n",
    "input, err := inputTs.To(device, true)\n",
    "if err != nil { fmt.Print(err) }\n",
    "\n",
    "// Forward through the model\n",
    "var output *ts.Tensor\n",
    "ts.NoGrad(func(){\n",
    "    output, _, _ = model.ForwardT(input, ts.None, ts.None, ts.None, ts.None, ts.None, ts.None, false)\n",
    "})\n",
    "\n",
    "// Get first sample\n",
    "output1, err := output.Get(0)\n",
    "if err != nil{fmt.Print(err)}\n",
    "// Get p-values for [MASK] token - NOTE: there're added special tokens [CLS] sentence [SEP]\n",
    "values, err := output1.Get(11)\n",
    "if err != nil{ fmt.Print(err) }\n",
    "// Get the best value\n",
    "am, err := values.Argmax([]int64{0}, false, false)\n",
    "if err != nil{ fmt.Print(err) }\n",
    "id := am.Int64Values()[0]\n",
    "// Lookup token from vocab\n",
    "word, ok := tk.IdToToken(int(id))\n",
    "if !ok { fmt.Printf(\"Token not found for input Id: %v\\n\", id)}\n",
    "fmt.Printf(\"Tokens: %q\\n\", enc.Tokens)\n",
    "fmt.Printf(\"Input: %v - Output: %v\\n\", sentence, word)"
   ]
  },
  {
   "cell_type": "code",
   "execution_count": null,
   "metadata": {},
   "outputs": [],
   "source": []
  }
 ],
 "metadata": {
  "kernelspec": {
   "display_name": "Go",
   "language": "go",
   "name": "gophernotes"
  },
  "language_info": {
   "codemirror_mode": "",
   "file_extension": ".go",
   "mimetype": "",
   "name": "go",
   "nbconvert_exporter": "",
   "pygments_lexer": "",
   "version": "go1.14.3"
  }
 },
 "nbformat": 4,
 "nbformat_minor": 4
}
