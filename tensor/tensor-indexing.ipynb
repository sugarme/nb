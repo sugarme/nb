{
 "cells": [
  {
   "cell_type": "markdown",
   "metadata": {},
   "source": [
    "<a href=\"https://colab.research.google.com/github/sugarme/nb/blob/master/tensor/tensor-indexing.ipynb\" target=\"_parent\"><img src=\"https://colab.research.google.com/assets/colab-badge.svg\" alt=\"Open In Colab\"/></a>"
   ]
  },
  {
   "cell_type": "markdown",
   "metadata": {},
   "source": [
    "# Tensor Indexing\n",
    "\n",
    "This notebook using\n",
    "\n",
    "1. [GoTch - Pytorch C++ APIs Go bindind](https://github.com/sugarme/gotch)\n",
    "2. [GopherNotes - Jupyter Notebook Go kernel](https://github.com/gopherdata/gophernotes)"
   ]
  },
  {
   "cell_type": "markdown",
   "metadata": {},
   "source": [
    "<hr style=\"border: 2pt solid blue\"> </hr>\n",
    "\n",
    "## Install Go kernel - GopherNotes (Google Colab Only)\n",
    "\n",
    "- Save a copy to your Google Drive\n",
    "- Change Runtime type to use GPU if needed (Runtime/Change runtime type/Hardware accelerator/GPU)\n"
   ]
  },
  {
   "cell_type": "code",
   "execution_count": null,
   "metadata": {},
   "outputs": [],
   "source": [
    "# run this cell first time using python runtime\n",
    "!add-apt-repository ppa:longsleep/golang-backports -y > /dev/null\n",
    "!apt update > /dev/null \n",
    "!apt install golang-go > /dev/null\n",
    "%env GOPATH=/root/go\n",
    "!go get -u github.com/gopherdata/gophernotes\n",
    "!cp ~/go/bin/gophernotes /usr/bin/\n",
    "!mkdir /usr/local/share/jupyter/kernels/gophernotes\n",
    "!cp ~/go/src/github.com/gopherdata/gophernotes/kernel/* \\\n",
    "       /usr/local/share/jupyter/kernels/gophernotes\n",
    "# then refresh (browser), it will now use gophernotes. Skip to golang in later cells"
   ]
  },
  {
   "cell_type": "markdown",
   "metadata": {},
   "source": [
    "**Note**: refresh (reload) browswer after this step!\n",
    "\n",
    "<hr style=\"border:1px solid red\"> </hr>"
   ]
  },
  {
   "cell_type": "markdown",
   "metadata": {},
   "source": [
    "## Install Pytorch C++ APIs and Go binding - GoTch\n",
    "\n",
    "NOTE: `ldconfig` (GLIBC) current version 2.27 is currently broken when linking Libtorch library\n",
    "\n",
    "see issue: https://discuss.pytorch.org/libtorch-c-so-files-truncated-error-when-ldconfig/46404/6\n",
    "\n",
    "Google Colab default settings:\n",
    "```bash\n",
    "LD_LIBRARY_PATH=/usr/lib64-nvidia\n",
    "LIBRARY_PATH=/usr/local/cuda/lib64/stubs\n",
    "```\n",
    "We copy directly `libtorch/lib` to those paths as a hacky way. "
   ]
  },
  {
   "cell_type": "code",
   "execution_count": null,
   "metadata": {},
   "outputs": [],
   "source": [
    "$wget -q --show-progress --progress=bar:force:noscroll -O /tmp/libtorch-cxx11-abi-shared-with-deps-1.7.0%2Bcu101.zip https://download.pytorch.org/libtorch/cu101/libtorch-cxx11-abi-shared-with-deps-1.7.0%2Bcu101.zip\n",
    "$unzip -qq /tmp/libtorch-cxx11-abi-shared-with-deps-1.7.0%2Bcu101.zip -d /usr/local\n",
    "$unzip -qq -j /tmp/libtorch-cxx11-abi-shared-with-deps-1.7.0%2Bcu101.zip libtorch/lib/* -d /usr/lib64-nvidia/\n",
    "$unzip -qq -j /tmp/libtorch-cxx11-abi-shared-with-deps-1.7.0%2Bcu101.zip libtorch/lib/* -d /usr/local/cuda/lib64/stubs/"
   ]
  },
  {
   "cell_type": "code",
   "execution_count": null,
   "metadata": {},
   "outputs": [],
   "source": [
    "import(\"os\")\n",
    "os.Setenv(\"CPATH\", \"usr/local/libtorch/lib:/usr/local/libtorch/include:/usr/local/libtorch/include/torch/csrc/api/include\")"
   ]
  },
  {
   "cell_type": "code",
   "execution_count": null,
   "metadata": {},
   "outputs": [],
   "source": [
    "$rm -f -- go.mod\n",
    "$go mod init github.com/sugarme/playgo\n",
    "$go get github.com/sugarme/gotch@v0.3.2"
   ]
  },
  {
   "cell_type": "code",
   "execution_count": null,
   "metadata": {},
   "outputs": [],
   "source": [
    "import(\n",
    "    \"fmt\"\n",
    "\n",
    "    \"github.com/sugarme/gotch\"\n",
    "    ts \"github.com/sugarme/gotch/tensor\"\n",
    ") "
   ]
  },
  {
   "cell_type": "markdown",
   "metadata": {},
   "source": [
    "## ...and we are ready to Go! Thank you for using GoTch!\n",
    "\n",
    "<hr style=\"border:2pt solid blue\"> </hr>"
   ]
  },
  {
   "cell_type": "code",
   "execution_count": 1,
   "metadata": {},
   "outputs": [],
   "source": [
    "import(\n",
    "    \"fmt\"\n",
    "    \n",
    "    ts \"github.com/sugarme/gotch/tensor\"\n",
    "    \"github.com/sugarme/gotch\"\n",
    ")"
   ]
  },
  {
   "cell_type": "code",
   "execution_count": 8,
   "metadata": {
    "collapsed": true,
    "jupyter": {
     "outputs_hidden": true
    }
   },
   "outputs": [
    {
     "data": {
      "text/plain": [
       "1   2   3   4   \n",
       "5   6   7   8   \n",
       "9   10  11  12  \n",
       "\n"
      ]
     },
     "execution_count": 8,
     "metadata": {},
     "output_type": "execute_result"
    }
   ],
   "source": [
    "ts.TensorFrom([]int64{1, 2, 3, 4, 5, 6, 7, 8, 9, 10, 11, 12}).MustView([]int64{3,4}, true)"
   ]
  },
  {
   "cell_type": "code",
   "execution_count": 7,
   "metadata": {},
   "outputs": [
    {
     "data": {
      "text/plain": [
       "1  2  3  4  \n"
      ]
     },
     "execution_count": 7,
     "metadata": {},
     "output_type": "execute_result"
    }
   ],
   "source": [
    "// select index selects first axis of the tensor.\n",
    "sel := ts.NewSelect(0)\n",
    "ts1.Idx(sel)"
   ]
  },
  {
   "cell_type": "code",
   "execution_count": 15,
   "metadata": {},
   "outputs": [
    {
     "data": {
      "text/plain": [
       "1  2  3  4  \n",
       "5  6  7  8  \n",
       "\n"
      ]
     },
     "execution_count": 15,
     "metadata": {},
     "output_type": "execute_result"
    }
   ],
   "source": [
    "// Narrow limits a range from 'start' inclusive and 'end' exclusive\n",
    "narrow := ts.NewNarrow(0, 2)\n",
    "ts1.Idx(narrow)"
   ]
  },
  {
   "cell_type": "code",
   "execution_count": null,
   "metadata": {},
   "outputs": [],
   "source": []
  }
 ],
 "metadata": {
  "kernelspec": {
   "display_name": "Go",
   "language": "go",
   "name": "gophernotes"
  },
  "language_info": {
   "codemirror_mode": "",
   "file_extension": ".go",
   "mimetype": "",
   "name": "go",
   "nbconvert_exporter": "",
   "pygments_lexer": "",
   "version": "go1.14.3"
  }
 },
 "nbformat": 4,
 "nbformat_minor": 4
}
