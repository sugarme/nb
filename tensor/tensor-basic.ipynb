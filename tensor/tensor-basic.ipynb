{
 "cells": [
  {
   "cell_type": "code",
   "execution_count": 16,
   "metadata": {},
   "outputs": [],
   "source": [
    "import(\n",
    "    \"fmt\"\n",
    "    \n",
    "    ts \"github.com/sugarme/gotch/tensor\"\n",
    "    \"github.com/sugarme/gotch\"\n",
    ")"
   ]
  },
  {
   "cell_type": "code",
   "execution_count": 17,
   "metadata": {},
   "outputs": [
    {
     "name": "stdout",
     "output_type": "stream",
     "text": [
      " 0.0   1.0   2.0   3.0  \n",
      " 4.0   5.0   6.0   7.0  \n",
      " 8.0   9.0  10.0  11.0  \n",
      "\n"
     ]
    },
    {
     "data": {
      "text/plain": [
       "76 <nil>"
      ]
     },
     "execution_count": 17,
     "metadata": {},
     "output_type": "execute_result"
    }
   ],
   "source": [
    "ts1 := ts.MustArange(ts.IntScalar(12), gotch.Double, gotch.CPU).MustView([]int64{3,4}, true)\n",
    "fmt.Printf(\"%4.1f\", ts1)"
   ]
  },
  {
   "cell_type": "code",
   "execution_count": 18,
   "metadata": {},
   "outputs": [
    {
     "name": "stdout",
     "output_type": "stream",
     "text": [
      "(1,.,.) =\n",
      "0.842  0.657  0.252  0.886  \n",
      "0.941  0.107  0.397  0.434  \n",
      "0.114  0.868  0.759  0.451  \n",
      "\n",
      "(2,.,.) =\n",
      "0.458  0.590  0.680  0.684  \n",
      "0.803  0.088  0.712  0.753  \n",
      "0.499  0.800  0.175  0.747  \n",
      "\n",
      "(3,.,.) =\n",
      "0.219  0.649  0.799  0.179  \n",
      "0.310  0.886  0.127  0.434  \n",
      "0.849  0.957  0.199  0.177  \n",
      "\n",
      "(4,.,.) =\n",
      "0.792  0.692  0.891  0.832  \n",
      "0.940  0.733  0.226  0.202  \n",
      "0.178  0.822  0.935  0.271  \n",
      "\n",
      "(5,.,.) =\n",
      "0.716  0.971  0.959  0.798  \n",
      "0.554  0.015  0.297  0.458  \n",
      "0.528  0.946  0.581  0.711  \n",
      "\n"
     ]
    },
    {
     "data": {
      "text/plain": [
       "490 <nil>"
      ]
     },
     "execution_count": 18,
     "metadata": {},
     "output_type": "execute_result"
    }
   ],
   "source": [
    "ts2 := ts.MustRand([]int64{5,3,4}, gotch.Double, gotch.CPU)\n",
    "fmt.Printf(\"%.3f\", ts2)"
   ]
  },
  {
   "cell_type": "code",
   "execution_count": 19,
   "metadata": {},
   "outputs": [
    {
     "name": "stdout",
     "output_type": "stream",
     "text": [
      "(1,.,.) =\n",
      "0.000  0.657  0.503  2.657  \n",
      "3.762  0.533  2.383  3.035  \n",
      "0.910  7.816  7.591  4.957  \n",
      "\n",
      "(2,.,.) =\n",
      "0.000  0.590  1.359  2.052  \n",
      "3.213  0.438  4.273  5.269  \n",
      "3.995  7.204  1.751  8.218  \n",
      "\n",
      "(3,.,.) =\n",
      "0.000  0.649  1.597  0.536  \n",
      "1.241  4.429  0.760  3.037  \n",
      "6.795  8.614  1.994  1.950  \n",
      "\n",
      "(4,.,.) =\n",
      "0.000  0.692  1.781  2.497  \n",
      "3.762  3.665  1.356  1.417  \n",
      "1.427  7.394  9.354  2.977  \n",
      "\n",
      "(5,.,.) =\n",
      "0.000  0.971  1.918  2.394  \n",
      "2.216  0.077  1.785  3.204  \n",
      "4.224  8.512  5.808  7.819  \n",
      "\n"
     ]
    },
    {
     "data": {
      "text/plain": [
       "490 <nil>"
      ]
     },
     "execution_count": 19,
     "metadata": {},
     "output_type": "execute_result"
    }
   ],
   "source": [
    "mul := ts2.MustMul(ts1, false)\n",
    "fmt.Printf(\"%.3f\", mul)"
   ]
  },
  {
   "cell_type": "code",
   "execution_count": null,
   "metadata": {},
   "outputs": [],
   "source": []
  }
 ],
 "metadata": {
  "kernelspec": {
   "display_name": "Go",
   "language": "go",
   "name": "gophernotes"
  },
  "language_info": {
   "codemirror_mode": "",
   "file_extension": ".go",
   "mimetype": "",
   "name": "go",
   "nbconvert_exporter": "",
   "pygments_lexer": "",
   "version": "go1.14.3"
  }
 },
 "nbformat": 4,
 "nbformat_minor": 4
}
