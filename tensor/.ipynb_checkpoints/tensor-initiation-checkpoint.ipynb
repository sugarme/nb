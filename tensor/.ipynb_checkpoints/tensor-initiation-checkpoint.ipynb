{
 "cells": [
  {
   "cell_type": "markdown",
   "metadata": {},
   "source": [
    "# Tensor Initiation"
   ]
  },
  {
   "cell_type": "code",
   "execution_count": 2,
   "metadata": {},
   "outputs": [],
   "source": [
    "import(\n",
    "    \"fmt\"\n",
    "    \n",
    "    ts \"github.com/sugarme/gotch/tensor\"\n",
    "    \"github.com/sugarme/gotch\"\n",
    ")"
   ]
  },
  {
   "cell_type": "markdown",
   "metadata": {},
   "source": [
    "## Tensor `OfSlice` - From slice of values"
   ]
  },
  {
   "cell_type": "code",
   "execution_count": 4,
   "metadata": {},
   "outputs": [
    {
     "name": "stdout",
     "output_type": "stream",
     "text": [
      "1  2  3  4  5  \n"
     ]
    },
    {
     "data": {
      "text/plain": [
       "16 <nil>"
      ]
     },
     "execution_count": 4,
     "metadata": {},
     "output_type": "execute_result"
    }
   ],
   "source": [
    "intSlice := []int64{1, 2, 3, 4, 5}\n",
    "ts1, err := ts.OfSlice(intSlice)\n",
    "if err != nil {fmt.Print(err)}\n",
    "fmt.Print(ts1)"
   ]
  },
  {
   "cell_type": "markdown",
   "metadata": {},
   "source": [
    "## `NewTensorFromData` - Specified data and shape"
   ]
  },
  {
   "cell_type": "code",
   "execution_count": 24,
   "metadata": {},
   "outputs": [
    {
     "name": "stdout",
     "output_type": "stream",
     "text": [
      "0.1  0.2  0.3  \n",
      "0.4  0.5  0.6  \n",
      "\n"
     ]
    },
    {
     "data": {
      "text/plain": [
       "33 <nil>"
      ]
     },
     "execution_count": 24,
     "metadata": {},
     "output_type": "execute_result"
    }
   ],
   "source": [
    "// A alternative `OfSlice` which auto-infer data type of slice.\n",
    "flSlice := []float64{0.1, 0.2, 0.3, 0.4, 0.5, 0.6}\n",
    "ts2, err := ts.NewTensorFromData(flSlice, []int64{2, 3})\n",
    "if err != nil {fmt.Print(err)}\n",
    "fmt.Printf(\"%.1f\", ts2)"
   ]
  },
  {
   "cell_type": "markdown",
   "metadata": {},
   "source": [
    "## Tensor `Ones` - values of one"
   ]
  },
  {
   "cell_type": "code",
   "execution_count": 8,
   "metadata": {},
   "outputs": [
    {
     "name": "stdout",
     "output_type": "stream",
     "text": [
      "1.0  1.0  1.0  1.0  \n",
      "1.0  1.0  1.0  1.0  \n",
      "1.0  1.0  1.0  1.0  \n",
      "\n"
     ]
    },
    {
     "data": {
      "text/plain": [
       "64 <nil>"
      ]
     },
     "execution_count": 8,
     "metadata": {},
     "output_type": "execute_result"
    }
   ],
   "source": [
    "ts3, err := ts.Ones([]int64{3,4}, gotch.Double, gotch.CPU)\n",
    "fmt.Printf(\"%.1f\", ts3)"
   ]
  },
  {
   "cell_type": "markdown",
   "metadata": {},
   "source": [
    "## Tensor `Zeros` - values of zero"
   ]
  },
  {
   "cell_type": "code",
   "execution_count": 9,
   "metadata": {},
   "outputs": [
    {
     "name": "stdout",
     "output_type": "stream",
     "text": [
      "0  0  0  \n",
      "0  0  0  \n",
      "\n"
     ]
    },
    {
     "data": {
      "text/plain": [
       "21 <nil>"
      ]
     },
     "execution_count": 9,
     "metadata": {},
     "output_type": "execute_result"
    }
   ],
   "source": [
    "ts3, err := ts.Zeros([]int64{2,3}, gotch.Int64, gotch.CPU)\n",
    "fmt.Printf(\"%d\", ts3)"
   ]
  },
  {
   "cell_type": "markdown",
   "metadata": {},
   "source": [
    "## Tensor `Arange` - specified number of elements"
   ]
  },
  {
   "cell_type": "code",
   "execution_count": 11,
   "metadata": {},
   "outputs": [
    {
     "name": "stdout",
     "output_type": "stream",
     "text": [
      " 0.0   1.0   2.0   3.0  \n",
      " 4.0   5.0   6.0   7.0  \n",
      " 8.0   9.0  10.0  11.0  \n",
      "\n"
     ]
    },
    {
     "data": {
      "text/plain": [
       "76 <nil>"
      ]
     },
     "execution_count": 11,
     "metadata": {},
     "output_type": "execute_result"
    }
   ],
   "source": [
    "ts4, err := ts.Arange(ts.IntScalar(12), gotch.Double, gotch.CPU)\n",
    "if err != nil { fmt.Print(err)}\n",
    "fmt.Printf(\"%4.1f\", ts1.MustView([]int64{3,4}, true))"
   ]
  },
  {
   "cell_type": "code",
   "execution_count": 15,
   "metadata": {},
   "outputs": [
    {
     "name": "stdout",
     "output_type": "stream",
     "text": [
      "0  1  2  \n",
      "3  4  5  \n",
      "\n",
      "\n"
     ]
    },
    {
     "data": {
      "text/plain": [
       "22 <nil>"
      ]
     },
     "execution_count": 15,
     "metadata": {},
     "output_type": "execute_result"
    }
   ],
   "source": [
    "ts5, err := ts.Arange(ts.IntScalar(6), gotch.Double, gotch.CPU)\n",
    "if err != nil { fmt.Print(err)}\n",
    "fmt.Printf(\"%v\\n\", ts5.MustView([]int64{2,3}, true))"
   ]
  },
  {
   "cell_type": "markdown",
   "metadata": {},
   "source": [
    "## Tensor `Arange1` - specified `start` (inclusive) value and `end` (exclusive) value"
   ]
  },
  {
   "cell_type": "code",
   "execution_count": 21,
   "metadata": {},
   "outputs": [
    {
     "name": "stdout",
     "output_type": "stream",
     "text": [
      "3.0   4.0   5.0   6.0   7.0   8.0   9.0   10.0  11.0  \n"
     ]
    },
    {
     "data": {
      "text/plain": [
       "55 <nil>"
      ]
     },
     "execution_count": 21,
     "metadata": {},
     "output_type": "execute_result"
    }
   ],
   "source": [
    "ts6, err := ts.Arange1(ts.IntScalar(3), ts.IntScalar(12), gotch.Double, gotch.CPU)\n",
    "if err != nil { fmt.Print(err)}\n",
    "fmt.Printf(\"%.1f\", ts6)"
   ]
  },
  {
   "cell_type": "markdown",
   "metadata": {},
   "source": [
    "## Tensor `Arange2` - specified `start`, `end` and `step` values"
   ]
  },
  {
   "cell_type": "code",
   "execution_count": 22,
   "metadata": {},
   "outputs": [
    {
     "name": "stdout",
     "output_type": "stream",
     "text": [
      "0.0   2.0   4.0   6.0   8.0   10.0  \n"
     ]
    },
    {
     "data": {
      "text/plain": [
       "37 <nil>"
      ]
     },
     "execution_count": 22,
     "metadata": {},
     "output_type": "execute_result"
    }
   ],
   "source": [
    "ts7, err := ts.Arange2(ts.IntScalar(0), ts.IntScalar(12), ts.IntScalar(2), gotch.Double, gotch.CPU)\n",
    "if err != nil { fmt.Print(err)}\n",
    "fmt.Printf(\"%.1f\", ts7)"
   ]
  },
  {
   "cell_type": "markdown",
   "metadata": {},
   "source": [
    "## Tensor `Rand` -  random values with specified shape"
   ]
  },
  {
   "cell_type": "code",
   "execution_count": 19,
   "metadata": {},
   "outputs": [
    {
     "name": "stdout",
     "output_type": "stream",
     "text": [
      "(1,.,.) =\n",
      "0.280  0.538  0.002  0.566  \n",
      "0.392  0.219  0.956  0.221  \n",
      "0.399  0.300  0.947  0.252  \n",
      "\n",
      "(2,.,.) =\n",
      "0.113  0.615  0.814  0.540  \n",
      "0.705  0.087  0.920  0.247  \n",
      "0.512  0.773  0.357  0.009  \n",
      "\n",
      "(3,.,.) =\n",
      "0.295  0.848  0.591  0.362  \n",
      "0.493  0.973  0.437  0.816  \n",
      "0.790  0.794  0.573  0.273  \n",
      "\n",
      "(4,.,.) =\n",
      "0.546  0.270  0.589  0.695  \n",
      "0.582  0.076  0.363  0.865  \n",
      "0.385  0.644  0.601  0.648  \n",
      "\n",
      "(5,.,.) =\n",
      "0.743  0.646  0.171  0.405  \n",
      "0.150  0.142  0.643  0.158  \n",
      "0.999  0.465  0.757  0.946  \n",
      "\n"
     ]
    },
    {
     "data": {
      "text/plain": [
       "490 <nil>"
      ]
     },
     "execution_count": 19,
     "metadata": {},
     "output_type": "execute_result"
    }
   ],
   "source": [
    "// NOTE: `Rand` always take float type only. To initiate int values, use `Randint`\n",
    "ts2 := ts.MustRand([]int64{5,3,4}, gotch.Double, gotch.CPU)\n",
    "fmt.Printf(\"%.3f\", ts2)"
   ]
  },
  {
   "cell_type": "markdown",
   "metadata": {},
   "source": [
    "## Tensor `Randint` - Random int values"
   ]
  },
  {
   "cell_type": "code",
   "execution_count": 20,
   "metadata": {},
   "outputs": [
    {
     "name": "stdout",
     "output_type": "stream",
     "text": [
      "(1,.,.) =\n",
      "1  3  3  6  \n",
      "8  5  3  4  \n",
      "5  2  3  7  \n",
      "\n",
      "(2,.,.) =\n",
      "8  7  1  8  \n",
      "2  2  4  3  \n",
      "4  3  7  0  \n",
      "\n"
     ]
    },
    {
     "data": {
      "text/plain": [
       "100 <nil>"
      ]
     },
     "execution_count": 20,
     "metadata": {},
     "output_type": "execute_result"
    }
   ],
   "source": [
    "// First argument is the upper bound for random values\n",
    "ts7, err := ts.Randint(9,[]int64{2,3,4}, gotch.Int64, gotch.CPU)\n",
    "if err != nil { fmt.Print(err)}\n",
    "fmt.Printf(\"%d\", ts7)"
   ]
  },
  {
   "cell_type": "code",
   "execution_count": null,
   "metadata": {},
   "outputs": [],
   "source": []
  }
 ],
 "metadata": {
  "kernelspec": {
   "display_name": "Go",
   "language": "go",
   "name": "gophernotes"
  },
  "language_info": {
   "codemirror_mode": "",
   "file_extension": ".go",
   "mimetype": "",
   "name": "go",
   "nbconvert_exporter": "",
   "pygments_lexer": "",
   "version": "go1.15.4"
  }
 },
 "nbformat": 4,
 "nbformat_minor": 4
}
